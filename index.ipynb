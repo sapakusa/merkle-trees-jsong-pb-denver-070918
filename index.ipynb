{
 "cells": [
  {
   "cell_type": "markdown",
   "metadata": {},
   "source": [
    "## Simplified Payment Verification\n",
    "\n",
    "The one field that we didn't investigate much in the last chapter is the Merkle Root field. The reason is that in order to understand why it's useful, we have to learn a few things about what Merkle Trees are and what properties they have. In this chapter, we're going to learn exactly what a Merkle Root is. This will be motivated by something called a Proof of Inclusion.\n",
    "\n",
    "### Motivation\n",
    "\n",
    "For a device that doesn't have much hard drive space, like your phone, it's hard to store the entire blockchain. As of this writing, the entire Bitcoin blockchain is around 161.5GB, which is a lot more than many phones can handle. If the entire blockchain cannot be put on the phone, what else can we do? Is it possible to create a Bitcoin wallet on a phone without having all the data?\n",
    "\n",
    "There are two scenarios that we're concerned with. Paying someone and getting paid.\n",
    "\n",
    "If you are paying someone with your Bitcoin wallet, it is up to the person receiving your Bitcoins to verify that indeed, they've received it. Once they've verified that the transaction has been included in a block, they'll give you the good or service you are expecting in return. Once you've sent the transaction to the other party, there really isn't anything for you to do than wait.\n",
    "\n",
    "When getting paid Bitcoins, however, we have a dilemma. If we are connected and have the full blockchain, we don't need to worry as we can observe that the transaction paying us is in a block at which point we'd give them our goods or services. If we don't have the full blockchain, as with a phone, what can we do?\n",
    "\n",
    "It turns out that the answer lies in the Merkle Root field. We can get just the block headers and get proof that a particular transaction is in a block that we know about. Since the block is secured by proof-of-work, we know that a proof of inclusion in that block is sufficient. The rest of this chapter goes into what the proof of inclusion looks like and how we both construct it and verify it.\n",
    "\n",
    "A Merkle Tree is a computer science structure designed for efficient proofs of inclusion. The prerequisite is an ordered list of things, in our case, transactions, and a hash function, in our case, double-sha256. What we do is this:\n",
    "\n",
    "1. Hash all the items of the ordered list with the provided hash function\n",
    "2. If there is exactly 1 hash, we are done\n",
    "3. If there is an odd number of hashes, we add a copy of the last hash in the list to the end so that we have two of the same ones.\n",
    "4. We pair the hashes in order and hash the concatenation to get the parent level.\n",
    "5. Go to 2.\n",
    "\n",
    "The idea is to come to a single hash that represents all of the hashes. We'll go through each thing we need below.\n",
    "\n",
    "### Merkle Parent\n",
    "\n",
    "Given two hashes, we need some way to produce another hash that represents both of them. As they are ordered, we will call the two hashes the *left* hash and the *right* hash. Tho combination, we call the *parent* hash. The formula for getting the parent is pretty simple:\n",
    "\n",
    "H = Hashing function, P = Parent Hash, L = Left Hash, R = Right Hash\n",
    "\n",
    "P=H(L||R)\n",
    "\n",
    "At this point, it's important to note that we can show that either the left or right hash is a \"part\" of the parent by revealing the other hash. That is, if we want to know that L is a part of P, someone can prove this is so, by revealing R and the fact that we're the left hash. We can combine L and R in the same way to produce P. This would prove that L and R are part of P."
   ]
  },
  {
   "cell_type": "code",
   "execution_count": null,
   "metadata": {},
   "outputs": [],
   "source": [
    "# Merkle Parent Example\n",
    "\n",
    "from helper import double_sha256\n",
    "\n",
    "tx_hash0 = bytes.fromhex('c117ea8ec828342f4dfb0ad6bd140e03a50720ece40169ee38bdc15d9eb64cf5')\n",
    "tx_hash1 = bytes.fromhex('c131474164b412e3406696da1ee20ab0fc9bf41c8f05fa8ceea7a08d672d7cc5')\n",
    "\n",
    "merkle_parent = double_sha256(tx_hash0+tx_hash1)\n",
    "print(merkle_parent.hex())"
   ]
  },
  {
   "cell_type": "markdown",
   "metadata": {},
   "source": [
    "### Try it\n",
    "\n",
    "#### Calculate the Merkle parent of these hashes:\n",
    "```\n",
    "f391da6ecfeed1814efae39e7fcb3838ae0b02c02ae7d0a5848a66947c0727b0\n",
    "3d238a92a94532b946c90e19c49351c763696cff3db400485b813aecb8a13181\n",
    "```"
   ]
  },
  {
   "cell_type": "code",
   "execution_count": null,
   "metadata": {},
   "outputs": [],
   "source": [
    "from helper import double_sha256\n",
    "\n",
    "hex_hash1 = 'f391da6ecfeed1814efae39e7fcb3838ae0b02c02ae7d0a5848a66947c0727b0'\n",
    "hex_hash2 = '3d238a92a94532b946c90e19c49351c763696cff3db400485b813aecb8a13181'\n",
    "\n",
    "# bytes.fromhex to get the bin hashes\n",
    "# double_sha256 the combination\n",
    "# hex() to see the result"
   ]
  },
  {
   "cell_type": "markdown",
   "metadata": {},
   "source": [
    "### Test Driven Example"
   ]
  },
  {
   "cell_type": "code",
   "execution_count": 1,
   "metadata": {},
   "outputs": [],
   "source": [
    "from io import BytesIO\n",
    "from block import Block, Proof\n",
    "\n",
    "def merkle_parent(hash1, hash2):\n",
    "    '''Takes the binary hashes and calculates the double-sha256'''\n",
    "    # return the double-sha256 of hash1 + hash2\n",
    "    pass"
   ]
  }
 ],
 "metadata": {
  "kernelspec": {
   "display_name": "Python 3",
   "language": "python",
   "name": "python3"
  },
  "language_info": {
   "codemirror_mode": {
    "name": "ipython",
    "version": 3
   },
   "file_extension": ".py",
   "mimetype": "text/x-python",
   "name": "python",
   "nbconvert_exporter": "python",
   "pygments_lexer": "ipython3",
   "version": "3.6.4"
  }
 },
 "nbformat": 4,
 "nbformat_minor": 2
}
